{
  "nbformat": 4,
  "nbformat_minor": 0,
  "metadata": {
    "colab": {
      "provenance": []
    },
    "kernelspec": {
      "name": "python3",
      "display_name": "Python 3"
    },
    "language_info": {
      "name": "python"
    }
  },
  "cells": [
    {
      "cell_type": "markdown",
      "source": [
        "自然言語100本ノック　https://nlp100.github.io/ja/　\\\n",
        "解答解説　https://kakedashi-engineer.appspot.com/nlp100/"
      ],
      "metadata": {
        "id": "MYiWcJu_T_hh"
      }
    },
    {
      "cell_type": "markdown",
      "source": [
        "# 第１章\n"
      ],
      "metadata": {
        "id": "HH7epoqnSpmE"
      }
    },
    {
      "cell_type": "markdown",
      "source": [
        "**00. 文字列の逆順**\\\n",
        "文字列”stressed”の文字を逆に（末尾から先頭に向かって）並べた文字列を得よ．\n"
      ],
      "metadata": {
        "id": "lStGFxNBUEcL"
      }
    },
    {
      "cell_type": "code",
      "execution_count": 1,
      "metadata": {
        "colab": {
          "base_uri": "https://localhost:8080/"
        },
        "id": "raIp1ulhPhUM",
        "outputId": "758a57c9-4293-4a47-a4e6-ea165bd73d01"
      },
      "outputs": [
        {
          "output_type": "stream",
          "name": "stdout",
          "text": [
            "desserts\n"
          ]
        }
      ],
      "source": [
        "s = 'stressed'\n",
        "print(s[::-1])"
      ]
    },
    {
      "cell_type": "markdown",
      "source": [
        "スライスという機能がある。"
      ],
      "metadata": {
        "id": "vOyo7qi70aHq"
      }
    },
    {
      "cell_type": "markdown",
      "source": [
        "**01. 「パタトクカシーー」**\\\n",
        "「パタトクカシーー」という文字列の1,3,5,7文字目を取り出して連結した文字列を得よ\n"
      ],
      "metadata": {
        "id": "J81MDkKqUeC5"
      }
    },
    {
      "cell_type": "code",
      "source": [
        "s = 'パタトクカシーー'\n",
        "print (s[::2])"
      ],
      "metadata": {
        "colab": {
          "base_uri": "https://localhost:8080/"
        },
        "id": "TgvHkODjWTd0",
        "outputId": "325095c2-7473-47a8-f199-e56529f5b2ec"
      },
      "execution_count": 2,
      "outputs": [
        {
          "output_type": "stream",
          "name": "stdout",
          "text": [
            "パトカー\n"
          ]
        }
      ]
    },
    {
      "cell_type": "markdown",
      "source": [
        "何も書かなかったら1文字づつステップ\\\n",
        "リファレンス"
      ],
      "metadata": {
        "id": "tZq4_Lu701Nc"
      }
    },
    {
      "cell_type": "markdown",
      "source": [
        "**02. 「パトカー」＋「タクシー」＝「パタトクカシーー」**\\\n",
        "「パトカー」＋「タクシー」の文字を先頭から交互に連結して文字列「パタトクカシーー」を得よ．\n"
      ],
      "metadata": {
        "id": "T3AkcMONWiXp"
      }
    },
    {
      "cell_type": "code",
      "source": [
        "s1 = 'パトカー'\n",
        "s2 = 'タクシー'\n",
        "print (''.join([a+b for a,b in zip(s1,s2)]))"
      ],
      "metadata": {
        "colab": {
          "base_uri": "https://localhost:8080/"
        },
        "id": "pZYo3DlGWqih",
        "outputId": "74e77805-6903-4b00-9333-8310a63bae7e"
      },
      "execution_count": 3,
      "outputs": [
        {
          "output_type": "stream",
          "name": "stdout",
          "text": [
            "パタトクカシーー\n"
          ]
        }
      ]
    },
    {
      "cell_type": "markdown",
      "source": [
        "文字列を二つに一つづつとりたいときはzipを利用する。"
      ],
      "metadata": {
        "id": "uAhz1sfP1O_z"
      }
    },
    {
      "cell_type": "markdown",
      "source": [
        "**03. 円周率**\\\n",
        "“Now I need a drink, alcoholic of course, after the heavy lectures involving quantum mechanics.”という文を単語に分解し，各単語の（アルファベットの）文字数を先頭から出現順に並べたリストを作成せよ．\n"
      ],
      "metadata": {
        "id": "nhFpAFvDYr57"
      }
    },
    {
      "cell_type": "code",
      "source": [
        "s = \"Now I need a drink, alcoholic of course, after the heavy lectures involving quantum mechanics.\"\n",
        "s = s.replace(',','').replace('.','')\n",
        "[len(w) for w in s.split()]"
      ],
      "metadata": {
        "colab": {
          "base_uri": "https://localhost:8080/"
        },
        "id": "nIfY4z2RY10u",
        "outputId": "0aa2445a-d57c-4c6a-832e-e4529d3cd4b3"
      },
      "execution_count": 4,
      "outputs": [
        {
          "output_type": "execute_result",
          "data": {
            "text/plain": [
              "[3, 1, 4, 1, 5, 9, 2, 6, 5, 3, 5, 8, 9, 7, 9]"
            ]
          },
          "metadata": {},
          "execution_count": 4
        }
      ]
    },
    {
      "cell_type": "markdown",
      "source": [
        ".なんちゃらで機能を追加することができる。"
      ],
      "metadata": {
        "id": "p1e0Qj-e1qNU"
      }
    },
    {
      "cell_type": "markdown",
      "source": [
        "**04. 元素記号**\\\n",
        "“Hi He Lied Because Boron Could Not Oxidize Fluorine. New Nations Might Also Sign Peace Security Clause. Arthur King Can.”という文を単語に分解し，1, 5, 6, 7, 8, 9, 15, 16, 19番目の単語は先頭の1文字，それ以外の単語は先頭に2文字を取り出し，取り出した文字列から単語の位置（先頭から何番目の単語か）への連想配列（辞書型もしくはマップ型）を作成せよ．"
      ],
      "metadata": {
        "id": "k25f2Cana6iV"
      }
    },
    {
      "cell_type": "code",
      "source": [
        "s = \"Hi He Lied Because Boron Could Not Oxidize Fluorine. New Nations Might Also Sign Peace Security Clause. Arthur King Can.\"\n",
        "s = s.replace('.','')\n",
        "idx = [1, 5, 6, 7, 8, 9, 15, 16, 19]\n",
        "mp = {}\n",
        "for i,w in enumerate(s.split()):\n",
        "    if (i+1) in idx:\n",
        "        v = w[:1]\n",
        "    else:\n",
        "        v = w[:2]\n",
        "    mp[v] = i+1\n",
        "print (mp)"
      ],
      "metadata": {
        "colab": {
          "base_uri": "https://localhost:8080/"
        },
        "id": "VlNLzWi9a_hh",
        "outputId": "359a0bd5-1428-4272-fa39-54cc825aebf7"
      },
      "execution_count": 5,
      "outputs": [
        {
          "output_type": "stream",
          "name": "stdout",
          "text": [
            "{'H': 1, 'He': 2, 'Li': 3, 'Be': 4, 'B': 5, 'C': 6, 'N': 7, 'O': 8, 'F': 9, 'Ne': 10, 'Na': 11, 'Mi': 12, 'Al': 13, 'Si': 14, 'P': 15, 'S': 16, 'Cl': 17, 'Ar': 18, 'K': 19, 'Ca': 20}\n"
          ]
        }
      ]
    },
    {
      "cell_type": "markdown",
      "source": [
        ":n は n未満までを示す。"
      ],
      "metadata": {
        "id": "Msvlf3JA2SmY"
      }
    },
    {
      "cell_type": "markdown",
      "source": [
        "**05. n-gram**\\\n",
        "与えられたシーケンス（文字列やリストなど）からn-gramを作る関数を作成せよ．この関数を用い，”I am an NLPer”という文から単語bi-gram，文字bi-gramを得よ．"
      ],
      "metadata": {
        "id": "C8rAqqp7cVa4"
      }
    },
    {
      "cell_type": "code",
      "source": [
        "def ngram(S, n):\n",
        "    r = []\n",
        "    for i in range(len(S) - n + 1):\n",
        "        r.append(S[i:i+n])\n",
        "    return r\n",
        "s = 'I am an NLPer'\n",
        "print (ngram(s.split(),2))\n",
        "print (ngram(s,2))"
      ],
      "metadata": {
        "colab": {
          "base_uri": "https://localhost:8080/"
        },
        "id": "Mn6y0P_2cciJ",
        "outputId": "ca0bddaf-05f9-4768-9865-7ef52f43d96b"
      },
      "execution_count": 6,
      "outputs": [
        {
          "output_type": "stream",
          "name": "stdout",
          "text": [
            "[['I', 'am'], ['am', 'an'], ['an', 'NLPer']]\n",
            "['I ', ' a', 'am', 'm ', ' a', 'an', 'n ', ' N', 'NL', 'LP', 'Pe', 'er']\n"
          ]
        }
      ]
    },
    {
      "cell_type": "markdown",
      "source": [
        "**06. 集合**\\\n",
        "“paraparaparadise”と”paragraph”に含まれる文字bi-gramの集合を，それぞれ, XとYとして求め，XとYの和集合，積集合，差集合を求めよ．さらに，’se’というbi-gramがXおよびYに含まれるかどうかを調べよ．"
      ],
      "metadata": {
        "id": "wO1dLo-gci31"
      }
    },
    {
      "cell_type": "code",
      "source": [
        "def ngram(S, n):\n",
        "    r = []\n",
        "    for i in range(len(S) - n + 1):\n",
        "        r.append(S[i:i+n])\n",
        "    return r\n",
        "s1 = 'paraparaparadise'\n",
        "s2 = 'paragraph'\n",
        "st1 = set(ngram(s1, 2)) #重複をなくしてくれるparaparaparadiseのparaの重複をなくしてくれる。\n",
        "st2 = set(ngram(s2, 2))\n",
        "print(st1 | st2)\n",
        "print(st1 & st2)\n",
        "print(st1 - st2)\n",
        "print('se' in st1)\n",
        "print('se' in st2)"
      ],
      "metadata": {
        "colab": {
          "base_uri": "https://localhost:8080/"
        },
        "id": "4wFHldC8crIO",
        "outputId": "c65c71d3-11d8-46a0-8f6f-8aed56abfe35"
      },
      "execution_count": 7,
      "outputs": [
        {
          "output_type": "stream",
          "name": "stdout",
          "text": [
            "{'ap', 'ad', 'ph', 'ra', 'ar', 'gr', 'is', 'se', 'di', 'pa', 'ag'}\n",
            "{'ap', 'ra', 'ar', 'pa'}\n",
            "{'ad', 'is', 'se', 'di'}\n",
            "True\n",
            "False\n"
          ]
        }
      ]
    },
    {
      "cell_type": "markdown",
      "source": [
        "**07. テンプレートによる文生成**\\\n",
        "引数x, y, zを受け取り「x時のyはz」という文字列を返す関数を実装せよ．さらに，x=12, y=”気温”, z=22.4として，実行結果を確認せよ．"
      ],
      "metadata": {
        "id": "X4jy4SQVc0JX"
      }
    },
    {
      "cell_type": "code",
      "source": [
        "def temperature(x,y,z):\n",
        "    return str(x)+'時の'+str(y)+'は'+str(z)\n",
        "x = 12\n",
        "y = '気温'\n",
        "z = 22.4\n",
        "print (temperature(x,y,z))"
      ],
      "metadata": {
        "colab": {
          "base_uri": "https://localhost:8080/"
        },
        "id": "RLgwK8zFc7Yw",
        "outputId": "2f08c3c4-98ef-486d-9790-286a374f2acf"
      },
      "execution_count": 8,
      "outputs": [
        {
          "output_type": "stream",
          "name": "stdout",
          "text": [
            "12時の気温は22.4\n"
          ]
        }
      ]
    },
    {
      "cell_type": "markdown",
      "source": [
        "**08. 暗号文**\\\n",
        "与えられた文字列の各文字を，以下の仕様で変換する関数cipherを実装せよ．\n",
        "\n",
        "- 英小文字ならば(219 - 文字コード)の文字に置換\n",
        "\n",
        "- その他の文字はそのまま出力\n",
        "\n",
        "この関数を用い，英語のメッセージを暗号化・復号化せよ．"
      ],
      "metadata": {
        "id": "pKx4u2pFc_Li"
      }
    },
    {
      "cell_type": "code",
      "source": [
        "def cipher(S):\n",
        "    new = []\n",
        "    for s in S:\n",
        "        if 97 <= ord(s) <= 122:\n",
        "            s = chr(219 - ord(s))\n",
        "        new.append(s)\n",
        "    return ''.join(new)\n",
        "\n",
        "s = 'Hello'\n",
        "new = cipher(s)\n",
        "print (new)\n",
        "\n",
        "print (cipher(new))"
      ],
      "metadata": {
        "colab": {
          "base_uri": "https://localhost:8080/"
        },
        "id": "RKixLyMjdE_n",
        "outputId": "648732eb-9ea5-4ed8-b891-86ea103046a9"
      },
      "execution_count": 1,
      "outputs": [
        {
          "output_type": "stream",
          "name": "stdout",
          "text": [
            "Hvool\n",
            "Hello\n"
          ]
        }
      ]
    },
    {
      "cell_type": "markdown",
      "source": [
        "**09. Typoglycemia**\\\n",
        "スペースで区切られた単語列に対して，各単語の先頭と末尾の文字は残し，それ以外の文字の順序をランダムに並び替えるプログラムを作成せよ．ただし，長さが４以下の単語は並び替えないこととする．適当な英語の文（例えば”I couldn’t believe that I could actually understand what I was reading : the phenomenal power of the human mind .”）を与え，その実行結果を確認せよ．"
      ],
      "metadata": {
        "id": "_eSpTq1tdMHd"
      }
    },
    {
      "cell_type": "code",
      "source": [
        "import random\n",
        "s = 'I couldn’t believe that I could actually understand what I was reading : the phenomenal power of the human mind .'\n",
        "ans = []\n",
        "text = s.split()\n",
        "for word in text:\n",
        "    if (len(word)>4):\n",
        "        mid = list(word[1:-1])\n",
        "        random.shuffle(mid)\n",
        "        word = word[0] + ''.join(mid) + word[-1]\n",
        "        ans.append(word)\n",
        "    else:\n",
        "        ans.append(word)\n",
        "print (' '.join(ans))"
      ],
      "metadata": {
        "colab": {
          "base_uri": "https://localhost:8080/"
        },
        "id": "YxTgirSOdUUN",
        "outputId": "28bc637a-fc38-4c93-d475-d3b2fe29afb0"
      },
      "execution_count": 3,
      "outputs": [
        {
          "output_type": "stream",
          "name": "stdout",
          "text": [
            "I cnd’luot blveeie that I cloud aalcutly unrdtsnaed what I was rniadeg : the pnenoamehl power of the hmaun mind .\n"
          ]
        }
      ]
    },
    {
      "cell_type": "markdown",
      "source": [
        "sをsplitしてfor\n",
        "コンマの処理に注意。"
      ],
      "metadata": {
        "id": "YeVKNb5u5mdv"
      }
    }
  ]
}